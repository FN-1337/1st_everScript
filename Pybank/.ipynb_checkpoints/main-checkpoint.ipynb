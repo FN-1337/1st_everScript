{
 "cells": [
  {
   "cell_type": "code",
   "execution_count": 2,
   "id": "60a476a1-d473-46ea-b8bc-c433426a5dc4",
   "metadata": {},
   "outputs": [],
   "source": [
    "# Import the pathlib and csv library\n",
    "from pathlib import Path\n",
    "import csv\n"
   ]
  },
  {
   "cell_type": "code",
   "execution_count": 3,
   "id": "90b4a5c6-42f1-4061-abcd-7721d6aaf010",
   "metadata": {},
   "outputs": [],
   "source": [
    "#variables\n",
    "total_months = 0\n",
    "total_profit_loss = 0\n"
   ]
  },
  {
   "cell_type": "code",
   "execution_count": 4,
   "id": "dce90f57-9145-44e8-ac40-b31295db47e8",
   "metadata": {},
   "outputs": [],
   "source": [
    "# Set the file path\n",
    "csvpath = Path('week2_budget_data.csv')\n"
   ]
  },
  {
   "cell_type": "code",
   "execution_count": 5,
   "id": "84ead285-c3db-4c46-93f8-77624eb08425",
   "metadata": {},
   "outputs": [],
   "source": [
    "#open the csv file\n",
    "with open(csvpath, \"r\") as budget:\n",
    "     csvreader = csv.reader(budget, delimiter=',')\n",
    "     csv_header = next(csvreader)\n",
    "    \n",
    "     for row in csvreader:\n",
    "        total_months += 1\n",
    "        total_profit_loss = total_profit_loss + int(row[1])\n",
    "\n",
    "    "
   ]
  },
  {
   "cell_type": "code",
   "execution_count": 29,
   "id": "7d20ee73-2cc0-4ff1-8bfb-f32b5a4b1e4a",
   "metadata": {},
   "outputs": [
    {
     "name": "stdout",
     "output_type": "stream",
     "text": [
      "['Date', 'Profit/Losses']\n"
     ]
    }
   ],
   "source": [
    "print(csv_header)\n",
    "\n"
   ]
  },
  {
   "cell_type": "code",
   "execution_count": 35,
   "id": "f229f6af-c315-4d0a-85b2-76f2b5bf815e",
   "metadata": {},
   "outputs": [
    {
     "name": "stdout",
     "output_type": "stream",
     "text": [
      "86\n"
     ]
    }
   ],
   "source": [
    "\n",
    "print(total_months)"
   ]
  },
  {
   "cell_type": "code",
   "execution_count": 6,
   "id": "9c4159b1-5c2d-4281-80a2-9f7b6d1f45e1",
   "metadata": {},
   "outputs": [
    {
     "name": "stdout",
     "output_type": "stream",
     "text": [
      "38382578\n"
     ]
    }
   ],
   "source": [
    "print(total_profit_loss)"
   ]
  },
  {
   "cell_type": "code",
   "execution_count": null,
   "id": "8b1c22bc-e833-4110-9382-150c099a81df",
   "metadata": {},
   "outputs": [],
   "source": []
  }
 ],
 "metadata": {
  "kernelspec": {
   "display_name": "Python 3",
   "language": "python",
   "name": "python3"
  },
  "language_info": {
   "codemirror_mode": {
    "name": "ipython",
    "version": 3
   },
   "file_extension": ".py",
   "mimetype": "text/x-python",
   "name": "python",
   "nbconvert_exporter": "python",
   "pygments_lexer": "ipython3",
   "version": "3.7.10"
  }
 },
 "nbformat": 4,
 "nbformat_minor": 5
}
