{
 "cells": [
  {
   "cell_type": "code",
   "execution_count": 1,
   "id": "60a476a1-d473-46ea-b8bc-c433426a5dc4",
   "metadata": {},
   "outputs": [],
   "source": [
    "# Import the pathlib and csv library\n",
    "from pathlib import Path\n",
    "import csv\n",
    "import statistics"
   ]
  },
  {
   "cell_type": "code",
   "execution_count": 2,
   "id": "90b4a5c6-42f1-4061-abcd-7721d6aaf010",
   "metadata": {},
   "outputs": [],
   "source": [
    "# Variables and lists \n",
    "total_months = 0\n",
    "total_profit_loss = 0\n",
    "first_profit_loss = 0\n",
    "month_of_change = []\n",
    "profit_loss_change_list = []\n",
    "greatest_increase = [\"\", 0]\n",
    "greatest_decrease = [\"\", 100000000000000000000000]"
   ]
  },
  {
   "cell_type": "code",
   "execution_count": 3,
   "id": "dce90f57-9145-44e8-ac40-b31295db47e8",
   "metadata": {},
   "outputs": [],
   "source": [
    "# Set the file path\n",
    "csvpath = Path('week2_budget_data.csv')"
   ]
  },
  {
   "cell_type": "code",
   "execution_count": 4,
   "id": "84ead285-c3db-4c46-93f8-77624eb08425",
   "metadata": {},
   "outputs": [],
   "source": [
    "# Read the csvfile\n",
    "with open(csvpath,'r') as csvfile:\n",
    "     csvreader = csv.reader(csvfile, delimiter=',')\n",
    "     reader = csv.reader(csvfile)\n",
    "     csv_header = next(csvreader)\n",
    "    \n",
    "     for row in csvreader:\n",
    "        # total number of months\n",
    "        total_months += 1\n",
    "        # net total amount of Profit/Losses \n",
    "        total_profit_loss += int(row[1])\n",
    "        # average of the changes in Profit/Losses\n",
    "        profit_loss_change = int(row[1]) - first_profit_loss\n",
    "        first_profit_loss = int(row[1]) \n",
    "        profit_loss_change_list += [profit_loss_change]\n",
    "        month_of_change += [row[0]]\n",
    "        # greatest increase in profits date and amount\n",
    "        if profit_loss_change > greatest_increase[1]:\n",
    "            greatest_increase[0] = row[0]\n",
    "            greatest_increase[1] = profit_loss_change\n",
    "        # greatest decrease in losses date and amount\n",
    "        if profit_loss_change < greatest_decrease[1]:\n",
    "            greatest_decrease[0] = row[0]\n",
    "            greatest_decrease[1] = profit_loss_change\n",
    "# Making the lost start from the second element \n",
    "profit_loss_change_list = profit_loss_change_list[1:]\n",
    "# Calculate profit los average \n",
    "profit_loss_average = round(statistics.mean(profit_loss_change_list),2)"
   ]
  },
  {
   "cell_type": "code",
   "execution_count": 5,
   "id": "7d20ee73-2cc0-4ff1-8bfb-f32b5a4b1e4a",
   "metadata": {},
   "outputs": [
    {
     "name": "stdout",
     "output_type": "stream",
     "text": [
      "['Date', 'Profit/Losses']\n"
     ]
    }
   ],
   "source": [
    "# Print header to make sure file is imported \n",
    "print(csv_header)"
   ]
  },
  {
   "cell_type": "code",
   "execution_count": 6,
   "id": "f229f6af-c315-4d0a-85b2-76f2b5bf815e",
   "metadata": {},
   "outputs": [],
   "source": [
    "# Creating summary \n",
    "output = (\n",
    "    f\"\\nFinancial Analysis\\n\"\n",
    "    f\"----------------\\n\"\n",
    "    f\"Total Months: {total_months}\\n\"\n",
    "    f\"Net Total: $ {total_profit_loss}\\n\"\n",
    "    f\"Average Change: $ {profit_loss_average}\\n\"\n",
    "    f\"Greatest Increase in Profits: {greatest_increase[0]} $ {greatest_increase[1]}\\n\"\n",
    "    f\"Greatest Decrease in Profits: {greatest_decrease[0]} $ {greatest_decrease[1]}\\n\")"
   ]
  },
  {
   "cell_type": "code",
   "execution_count": 7,
   "id": "9c4159b1-5c2d-4281-80a2-9f7b6d1f45e1",
   "metadata": {
    "tags": []
   },
   "outputs": [
    {
     "name": "stdout",
     "output_type": "stream",
     "text": [
      "\n",
      "Financial Analysis\n",
      "----------------\n",
      "Total Months: 86\n",
      "Net Total: $ 38382578\n",
      "Average Change: $ -2315.12\n",
      "Greatest Increase in Profits: Feb-12 $ 1926159\n",
      "Greatest Decrease in Profits: Sep-13 $ -2196167\n",
      "\n"
     ]
    }
   ],
   "source": [
    "# Printing results\n",
    "print(output)"
   ]
  },
  {
   "cell_type": "code",
   "execution_count": 10,
   "id": "8b1c22bc-e833-4110-9382-150c099a81df",
   "metadata": {},
   "outputs": [],
   "source": [
    "# Exporting Output\n",
    "output_file = Path(\"Profitlossoutput.txt\")\n",
    "with open(output_file,'w') as txt_file:\n",
    "    txt_file.write(output)"
   ]
  },
  {
   "cell_type": "code",
   "execution_count": null,
   "id": "73fcb40a-1e67-40a8-9da3-23135dc88cc5",
   "metadata": {},
   "outputs": [],
   "source": [
    "\n",
    "                                                \n"
   ]
  },
  {
   "cell_type": "code",
   "execution_count": 9,
   "id": "c61cb9e0-3414-4178-b4b5-08858eabc361",
   "metadata": {},
   "outputs": [
    {
     "data": {
      "text/plain": [
       "[116771,\n",
       " -662642,\n",
       " -391430,\n",
       " 379920,\n",
       " 212354,\n",
       " 510239,\n",
       " -428211,\n",
       " -821271,\n",
       " 693918,\n",
       " 416278,\n",
       " -974163,\n",
       " 860159,\n",
       " -1115009,\n",
       " 1033048,\n",
       " 95318,\n",
       " -308093,\n",
       " 99052,\n",
       " -521393,\n",
       " 605450,\n",
       " 231727,\n",
       " -65187,\n",
       " -702716,\n",
       " 177975,\n",
       " -1065544,\n",
       " 1926159,\n",
       " -917805,\n",
       " 898730,\n",
       " -334262,\n",
       " -246499,\n",
       " -64055,\n",
       " -1529236,\n",
       " 1497596,\n",
       " 304914,\n",
       " -635801,\n",
       " 398319,\n",
       " -183161,\n",
       " -37864,\n",
       " -253689,\n",
       " 403655,\n",
       " 94168,\n",
       " 306877,\n",
       " -83000,\n",
       " 210462,\n",
       " -2196167,\n",
       " 1465222,\n",
       " -956983,\n",
       " 1838447,\n",
       " -468003,\n",
       " -64602,\n",
       " 206242,\n",
       " -242155,\n",
       " -449079,\n",
       " 315198,\n",
       " 241099,\n",
       " 111540,\n",
       " 365942,\n",
       " -219310,\n",
       " -368665,\n",
       " 409837,\n",
       " 151210,\n",
       " -110244,\n",
       " -341938,\n",
       " -1212159,\n",
       " 683246,\n",
       " -70825,\n",
       " 335594,\n",
       " 417334,\n",
       " -272194,\n",
       " -236462,\n",
       " 657432,\n",
       " -211262,\n",
       " -128237,\n",
       " -1750387,\n",
       " 925441,\n",
       " 932089,\n",
       " -311434,\n",
       " 267252,\n",
       " -1876758,\n",
       " 1733696,\n",
       " 198551,\n",
       " -665765,\n",
       " 693229,\n",
       " -734926,\n",
       " 77242,\n",
       " 532869]"
      ]
     },
     "execution_count": 9,
     "metadata": {},
     "output_type": "execute_result"
    }
   ],
   "source": [
    "profit_loss_change_list\n"
   ]
  },
  {
   "cell_type": "code",
   "execution_count": null,
   "id": "824184e9-f575-44d3-90b2-5a5e8d312ebf",
   "metadata": {},
   "outputs": [],
   "source": []
  }
 ],
 "metadata": {
  "kernelspec": {
   "display_name": "Python 3",
   "language": "python",
   "name": "python3"
  },
  "language_info": {
   "codemirror_mode": {
    "name": "ipython",
    "version": 3
   },
   "file_extension": ".py",
   "mimetype": "text/x-python",
   "name": "python",
   "nbconvert_exporter": "python",
   "pygments_lexer": "ipython3",
   "version": "3.7.10"
  }
 },
 "nbformat": 4,
 "nbformat_minor": 5
}
