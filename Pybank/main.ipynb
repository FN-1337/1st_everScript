{
 "cells": [
  {
   "cell_type": "code",
   "execution_count": 1,
   "id": "60a476a1-d473-46ea-b8bc-c433426a5dc4",
   "metadata": {},
   "outputs": [],
   "source": [
    "# Import the pathlib and csv library\n",
    "from pathlib import Path\n",
    "import csv\n"
   ]
  },
  {
   "cell_type": "code",
   "execution_count": 2,
   "id": "90b4a5c6-42f1-4061-abcd-7721d6aaf010",
   "metadata": {},
   "outputs": [],
   "source": [
    "# Variables\n",
    "total_months = 0\n",
    "total_profit_loss = 0\n",
    "first_revenue = 0\n",
    "month_of_change = []\n",
    "profit_loss_change_list = []\n",
    "greatest_increase = [\"\", 0]\n",
    "greatest_decrease = [\"\", 100000000000000000000000]\n",
    "\n"
   ]
  },
  {
   "cell_type": "code",
   "execution_count": 3,
   "id": "dce90f57-9145-44e8-ac40-b31295db47e8",
   "metadata": {},
   "outputs": [],
   "source": [
    "# Set the file path\n",
    "csvpath = Path('week2_budget_data.csv')\n"
   ]
  },
  {
   "cell_type": "code",
   "execution_count": 4,
   "id": "84ead285-c3db-4c46-93f8-77624eb08425",
   "metadata": {},
   "outputs": [],
   "source": [
    "# Read the csvfile\n",
    "with open(csvpath,'r') as csvfile:\n",
    "     csvreader = csv.reader(csvfile, delimiter=',')\n",
    "     reader = csv.reader(csvfile)\n",
    "     csv_header = next(csvreader)\n",
    "    \n",
    "     for row in csvreader:\n",
    "        # total number of months\n",
    "        total_months += 1\n",
    "        # net total amount of Profit/Losses \n",
    "        total_profit_loss += int(row[1])\n",
    "        # average of the changes in Profit/Losses\n",
    "        profit_loss_change = int(row[1]) - first_revenue\n",
    "        first_revenue = int(row[1])\n",
    "        profit_loss_change_list += [profit_loss_change]\n",
    "        month_of_change += [row[0]]\n",
    "        profit_loss_average = sum(profit_loss_change_list) / len(profit_loss_change_list)\n",
    "        \n",
    "      \n",
    "        \n",
    "        # greatest increase in profits date and amount\n",
    "        if (profit_loss_change > greatest_increase[1]):\n",
    "            greatest_increase[0] = row[0]\n",
    "            greatest_increase[1] = profit_loss_change\n",
    "        \n",
    "        \n",
    "        # greatest decrease in losses date and amount\n",
    "        if (profit_loss_change < greatest_decrease[1]):\n",
    "            greatest_decrease[0] = row[0]\n",
    "            greatest_decrease[1] = profit_loss_change\n",
    "    \n",
    "    \n",
    "        \n",
    "            \n",
    "            \n",
    "       "
   ]
  },
  {
   "cell_type": "code",
   "execution_count": 5,
   "id": "7d20ee73-2cc0-4ff1-8bfb-f32b5a4b1e4a",
   "metadata": {},
   "outputs": [
    {
     "name": "stdout",
     "output_type": "stream",
     "text": [
      "['Date', 'Profit/Losses']\n"
     ]
    }
   ],
   "source": [
    "print(csv_header)\n"
   ]
  },
  {
   "cell_type": "code",
   "execution_count": 6,
   "id": "f229f6af-c315-4d0a-85b2-76f2b5bf815e",
   "metadata": {},
   "outputs": [],
   "source": [
    "output = (\n",
    "    f\"\\nFinancial Analysis\\n\"\n",
    "    f\"----------------\\n\"\n",
    "    f\"Total Months: {total_months}\\n\"\n",
    "    f\"Net Total: {total_profit_loss}\\n\"\n",
    "    f\"Average Change: {profit_loss_average}\\n\"\n",
    "    f\"Greatest Increase in Profits: {greatest_increase[0]} ${greatest_increase[1]}\\n\"\n",
    "    f\"Greatest Decrease in Profits: {greatest_decrease[0]} ${greatest_decrease[1]}\\n\")"
   ]
  },
  {
   "cell_type": "code",
   "execution_count": 7,
   "id": "9c4159b1-5c2d-4281-80a2-9f7b6d1f45e1",
   "metadata": {},
   "outputs": [
    {
     "name": "stdout",
     "output_type": "stream",
     "text": [
      "\n",
      "Financial Analysis\n",
      "----------------\n",
      "Total Months: 86\n",
      "Net Total: 38382578\n",
      "Average Change: 7803.476744186047\n",
      "Greatest Increase in Profits: Feb-12 $1926159\n",
      "Greatest Decrease in Profits: Sep-13 $-2196167\n",
      "\n"
     ]
    }
   ],
   "source": [
    "print(output)"
   ]
  },
  {
   "cell_type": "code",
   "execution_count": 8,
   "id": "8b1c22bc-e833-4110-9382-150c099a81df",
   "metadata": {},
   "outputs": [],
   "source": [
    "# Exporting Output\n",
    "output_file = Path(\"Profitlossoutput.txt\")\n",
    "with open(output_file,'w') as txt_file:\n",
    "    txt_file.write(output)"
   ]
  },
  {
   "cell_type": "code",
   "execution_count": null,
   "id": "3c988e4f-6926-4a22-8b29-52ff23813111",
   "metadata": {},
   "outputs": [],
   "source": []
  },
  {
   "cell_type": "code",
   "execution_count": null,
   "id": "b0f9ee3b-ab3c-4444-ade8-08af42ddf0f5",
   "metadata": {},
   "outputs": [],
   "source": []
  },
  {
   "cell_type": "code",
   "execution_count": null,
   "id": "ef07d32b-b9d4-47d8-b5c5-977bb7d1e625",
   "metadata": {},
   "outputs": [],
   "source": []
  },
  {
   "cell_type": "code",
   "execution_count": null,
   "id": "3e7725d7-5bd9-4566-a0a1-6756c76d8e15",
   "metadata": {},
   "outputs": [],
   "source": []
  },
  {
   "cell_type": "code",
   "execution_count": null,
   "id": "74f11018-efbf-4ab7-92dc-777a64b86b10",
   "metadata": {},
   "outputs": [],
   "source": []
  },
  {
   "cell_type": "code",
   "execution_count": null,
   "id": "485513df-f89e-479d-bb8c-37e03a050070",
   "metadata": {},
   "outputs": [],
   "source": []
  }
 ],
 "metadata": {
  "kernelspec": {
   "display_name": "Python 3",
   "language": "python",
   "name": "python3"
  },
  "language_info": {
   "codemirror_mode": {
    "name": "ipython",
    "version": 3
   },
   "file_extension": ".py",
   "mimetype": "text/x-python",
   "name": "python",
   "nbconvert_exporter": "python",
   "pygments_lexer": "ipython3",
   "version": "3.7.10"
  }
 },
 "nbformat": 4,
 "nbformat_minor": 5
}
